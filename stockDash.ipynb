{
 "cells": [
  {
   "cell_type": "code",
   "execution_count": 1,
   "id": "38066955-10a9-4f1a-bc2e-fe3350057306",
   "metadata": {},
   "outputs": [],
   "source": [
    "from jupyter_dash import JupyterDash\n",
    "from dash import dcc, html, Input, Output\n",
    "import yfinance as yf  # You can use this library to fetch stock data\n",
    "import plotly.express as px"
   ]
  },
  {
   "cell_type": "code",
   "execution_count": 3,
   "id": "8de29fe1-cb54-42db-888c-70d9f5a60df2",
   "metadata": {},
   "outputs": [],
   "source": [
    "app = JupyterDash(__name__)"
   ]
  },
  {
   "cell_type": "code",
   "execution_count": 4,
   "id": "726b37f7-5b85-4a92-b0db-13267a924c88",
   "metadata": {},
   "outputs": [],
   "source": [
    "app.layout = html.Div([\n",
    "    html.H1(\"Stock Price Analysis Dashboard\"),\n",
    "    \n",
    "    html.Label(\"Select Stock Symbol:\"),\n",
    "    dcc.Dropdown(\n",
    "        id='stock-selector',\n",
    "        options=[\n",
    "            {'label': 'AAPL', 'value': 'AAPL'},\n",
    "            {'label': 'GOOGL', 'value': 'GOOGL'},\n",
    "            {'label': 'MSFT', 'value': 'MSFT'},\n",
    "        ],\n",
    "        value='AAPL'\n",
    "    ),\n",
    "    \n",
    "    dcc.Graph(id='stock-price-chart'),\n",
    "])\n"
   ]
  },
  {
   "cell_type": "code",
   "execution_count": 5,
   "id": "9f5fc52f-bc11-4bde-bdfd-1cf6f6cfb849",
   "metadata": {},
   "outputs": [],
   "source": [
    "@app.callback(\n",
    "    Output('stock-price-chart', 'figure'),\n",
    "    [Input('stock-selector', 'value')]\n",
    ")\n",
    "def update_chart(selected_stock):\n",
    "    stock_data = yf.download(selected_stock, start='2022-01-01', end='2023-01-01')\n",
    "    fig = px.line(stock_data, x=stock_data.index, y='Close', title=f'{selected_stock} Stock Price Analysis')\n",
    "    return fig"
   ]
  },
  {
   "cell_type": "code",
   "execution_count": 6,
   "id": "783cfcbb-6003-4da8-9642-eaa7d9b2b612",
   "metadata": {},
   "outputs": [
    {
     "data": {
      "text/html": [
       "\n",
       "        <iframe\n",
       "            width=\"100%\"\n",
       "            height=\"650\"\n",
       "            src=\"http://127.0.0.1:8050/\"\n",
       "            frameborder=\"0\"\n",
       "            allowfullscreen\n",
       "            \n",
       "        ></iframe>\n",
       "        "
      ],
      "text/plain": [
       "<IPython.lib.display.IFrame at 0x17f32eedd50>"
      ]
     },
     "metadata": {},
     "output_type": "display_data"
    },
    {
     "name": "stdout",
     "output_type": "stream",
     "text": [
      "Dash app running on http://127.0.0.1:8050/\n",
      "[*********************100%%**********************]  1 of 1 completed\n",
      "[*********************100%%**********************]  1 of 1 completed\n",
      "[*********************100%%**********************]  1 of 1 completed\n",
      "[*********************100%%**********************]  1 of 1 completed\n"
     ]
    }
   ],
   "source": [
    "if __name__ == '__main__':\n",
    "    app.run_server(port=8050, mode='external')\n"
   ]
  },
  {
   "cell_type": "code",
   "execution_count": null,
   "id": "c304ceaa-6b27-415b-8b51-25636d644a99",
   "metadata": {},
   "outputs": [],
   "source": []
  }
 ],
 "metadata": {
  "kernelspec": {
   "display_name": "Python 3 (ipykernel)",
   "language": "python",
   "name": "python3"
  },
  "language_info": {
   "codemirror_mode": {
    "name": "ipython",
    "version": 3
   },
   "file_extension": ".py",
   "mimetype": "text/x-python",
   "name": "python",
   "nbconvert_exporter": "python",
   "pygments_lexer": "ipython3",
   "version": "3.11.2"
  }
 },
 "nbformat": 4,
 "nbformat_minor": 5
}
